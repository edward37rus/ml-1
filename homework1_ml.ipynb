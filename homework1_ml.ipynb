{
 "cells": [
  {
   "cell_type": "code",
   "execution_count": 52,
   "id": "f3d9110b",
   "metadata": {},
   "outputs": [],
   "source": [
    "import numpy as np\n",
    "import pandas as pd\n",
    "import random"
   ]
  },
  {
   "cell_type": "code",
   "execution_count": 77,
   "id": "db2b360e",
   "metadata": {},
   "outputs": [
    {
     "name": "stdout",
     "output_type": "stream",
     "text": [
      "[[3 4 2]\n",
      " [4 4 1]\n",
      " [2 2 2]]\n"
     ]
    }
   ],
   "source": [
    "np.random.seed(42)\n",
    "A=np.random.randint(0,6,(3,3))\n",
    "print(A)"
   ]
  },
  {
   "cell_type": "code",
   "execution_count": 78,
   "id": "1f18803b",
   "metadata": {
    "scrolled": true
   },
   "outputs": [
    {
     "name": "stdout",
     "output_type": "stream",
     "text": [
      "[[6 3 4]\n",
      " [6 2 7]\n",
      " [4 4 6]]\n"
     ]
    }
   ],
   "source": [
    "np.random.seed(42)\n",
    "B=np.random.randint(0,8,(3,3))\n",
    "print(B)"
   ]
  },
  {
   "cell_type": "code",
   "execution_count": 74,
   "id": "eb95b6f6",
   "metadata": {},
   "outputs": [
    {
     "name": "stdout",
     "output_type": "stream",
     "text": [
      "[[50 25 52]\n",
      " [52 24 50]\n",
      " [32 18 34]]\n"
     ]
    }
   ],
   "source": [
    "matrix_mul = np.dot(A,B)\n",
    "print(matrix_mul)"
   ]
  },
  {
   "cell_type": "code",
   "execution_count": 75,
   "id": "95ae2266",
   "metadata": {},
   "outputs": [
    {
     "name": "stdout",
     "output_type": "stream",
     "text": [
      "[[38 44 23]\n",
      " [40 46 28]\n",
      " [40 44 24]]\n"
     ]
    }
   ],
   "source": [
    "matrix_mul = np.dot(B,A)\n",
    "print(matrix_mul)"
   ]
  },
  {
   "cell_type": "markdown",
   "id": "fb21e5af",
   "metadata": {},
   "source": [
    "Вывод:  A*B!=B*A"
   ]
  },
  {
   "cell_type": "code",
   "execution_count": 80,
   "id": "e6765427",
   "metadata": {},
   "outputs": [
    {
     "name": "stdout",
     "output_type": "stream",
     "text": [
      "[[1 2]\n",
      " [3 4]]\n"
     ]
    }
   ],
   "source": [
    "C=np.array([[1, 2],[3, 4]])\n",
    "print(C)\n",
    "# в дз стоит обозначение матрицы \"А\". Я обозначил С , т.к в первой части уже присвоил \"А\" массиву "
   ]
  },
  {
   "cell_type": "code",
   "execution_count": 71,
   "id": "ae899ebf",
   "metadata": {},
   "outputs": [
    {
     "name": "stdout",
     "output_type": "stream",
     "text": [
      "[1 2]\n"
     ]
    }
   ],
   "source": [
    "b=np.array([1, 2])\n",
    "print(b)"
   ]
  },
  {
   "cell_type": "markdown",
   "id": "d54d07a2",
   "metadata": {},
   "source": [
    "При умножении матрицы на вектор-строку, умножаемая матрица может быть только вектором-столбцом, причем количество строк в векторе-столбце должно совпадать с количеством столбцов в векторе-строке."
   ]
  },
  {
   "cell_type": "code",
   "execution_count": 97,
   "id": "2fd93d6f",
   "metadata": {},
   "outputs": [
    {
     "name": "stdout",
     "output_type": "stream",
     "text": [
      "[ 7 10]\n"
     ]
    }
   ],
   "source": [
    "matrix_mul=np.dot(C,b)\n",
    "print(matrix_mul)"
   ]
  },
  {
   "cell_type": "markdown",
   "id": "0bdd32f9",
   "metadata": {},
   "source": [
    "P.s. Прочитал, загуглив много статей, везде пишут про размерность. Был вариант ,что сделать первым аргументов -вектор и умножить на второй аргумент0 матрицу. ЕСЛИ МОЖНО НЕБОЛЬШОЙ ФИДБЭК ПО ЭТОМУ ВОПРОСУ ДЛЯ УСВОЕНИЯ МАТЕРИАЛА "
   ]
  }
 ],
 "metadata": {
  "kernelspec": {
   "display_name": "Python 3",
   "language": "python",
   "name": "python3"
  },
  "language_info": {
   "codemirror_mode": {
    "name": "ipython",
    "version": 3
   },
   "file_extension": ".py",
   "mimetype": "text/x-python",
   "name": "python",
   "nbconvert_exporter": "python",
   "pygments_lexer": "ipython3",
   "version": "3.8.8"
  }
 },
 "nbformat": 4,
 "nbformat_minor": 5
}
